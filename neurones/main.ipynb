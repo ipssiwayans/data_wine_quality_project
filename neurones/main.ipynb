{
 "cells": [
  {
   "metadata": {},
   "cell_type": "markdown",
   "source": "## TEST AVEC 1 NEURONE",
   "id": "dd0249b80683cba3"
  },
  {
   "metadata": {},
   "cell_type": "markdown",
   "source": "# Import des librairies",
   "id": "63be6d58ab955467"
  },
  {
   "metadata": {
    "ExecuteTime": {
     "end_time": "2024-11-18T10:54:20.118105Z",
     "start_time": "2024-11-18T10:54:18.975948Z"
    }
   },
   "cell_type": "code",
   "source": [
    "import numpy as np\n",
    "import pandas as pd\n",
    "from sklearn.model_selection import train_test_split\n",
    "from sklearn.preprocessing import StandardScaler\n",
    "from sklearn.metrics import accuracy_score"
   ],
   "id": "aefaf10f7adb6f4a",
   "outputs": [],
   "execution_count": 3
  },
  {
   "metadata": {},
   "cell_type": "markdown",
   "source": "# Création de la classe Perceptron",
   "id": "a601b0208f9f3194"
  },
  {
   "metadata": {
    "ExecuteTime": {
     "end_time": "2024-11-18T10:54:23.938154Z",
     "start_time": "2024-11-18T10:54:23.933308Z"
    }
   },
   "cell_type": "code",
   "source": [
    "class Perceptron:\n",
    "    def __init__(self, nb_of_inputs, nb_epochs=500, learning_rate=0.0001):\n",
    "        \n",
    "        # - nb_of_inputs : Nombre de caractéristiques en entrée\n",
    "        # - nb_epochs : Nombre d'itérations d'entraînement\n",
    "        # - learning_rate : Taux d'apprentissage\n",
    "        \n",
    "        self.nb_epochs = nb_epochs\n",
    "        self.learning_rate = learning_rate\n",
    "        self.weights = np.zeros(nb_of_inputs + 1)  # +1 pour le biais\n",
    "        # Permet d'initialiser le nombre de poids entré en paramètre à zéro dans un tableau\n",
    "\n",
    "    def predict(self, inputs):\n",
    "        summation = np.dot(inputs, self.weights[1:]) + self.weights[0] # somme des multiplications des inputs * poids via la méthode \"dot\" \n",
    "        return 1 if summation > 0 else 0\n",
    "\n",
    "    def train(self, training_inputs, labels):\n",
    "        for _ in range(self.nb_epochs):\n",
    "            for inputs, label in zip(training_inputs, labels):\n",
    "                prediction = self.predict(inputs)\n",
    "                self.weights[1:] += self.learning_rate * (label - prediction) * inputs\n",
    "                self.weights[0] += self.learning_rate * (label - prediction) * 1"
   ],
   "id": "73286331cd8ceeb6",
   "outputs": [],
   "execution_count": 4
  },
  {
   "metadata": {},
   "cell_type": "markdown",
   "source": "# Charger le dataset et préparer les données",
   "id": "778522eb0ece4b78"
  },
  {
   "metadata": {
    "ExecuteTime": {
     "end_time": "2024-11-18T14:27:06.484719Z",
     "start_time": "2024-11-18T14:27:06.467534Z"
    }
   },
   "cell_type": "code",
   "source": [
    "file_path = '../WineQT.csv'\n",
    "wine_data = pd.read_csv(file_path)\n",
    "wine_data\n",
    "\n",
    "# wine_data.isnull().sum()"
   ],
   "id": "72a8cfda9f860447",
   "outputs": [
    {
     "data": {
      "text/plain": [
       "      fixed acidity  volatile acidity  citric acid  residual sugar  chlorides  \\\n",
       "0               7.4             0.700         0.00             1.9      0.076   \n",
       "1               7.8             0.880         0.00             2.6      0.098   \n",
       "2               7.8             0.760         0.04             2.3      0.092   \n",
       "3              11.2             0.280         0.56             1.9      0.075   \n",
       "4               7.4             0.700         0.00             1.9      0.076   \n",
       "...             ...               ...          ...             ...        ...   \n",
       "1138            6.3             0.510         0.13             2.3      0.076   \n",
       "1139            6.8             0.620         0.08             1.9      0.068   \n",
       "1140            6.2             0.600         0.08             2.0      0.090   \n",
       "1141            5.9             0.550         0.10             2.2      0.062   \n",
       "1142            5.9             0.645         0.12             2.0      0.075   \n",
       "\n",
       "      free sulfur dioxide  total sulfur dioxide  density    pH  sulphates  \\\n",
       "0                    11.0                  34.0  0.99780  3.51       0.56   \n",
       "1                    25.0                  67.0  0.99680  3.20       0.68   \n",
       "2                    15.0                  54.0  0.99700  3.26       0.65   \n",
       "3                    17.0                  60.0  0.99800  3.16       0.58   \n",
       "4                    11.0                  34.0  0.99780  3.51       0.56   \n",
       "...                   ...                   ...      ...   ...        ...   \n",
       "1138                 29.0                  40.0  0.99574  3.42       0.75   \n",
       "1139                 28.0                  38.0  0.99651  3.42       0.82   \n",
       "1140                 32.0                  44.0  0.99490  3.45       0.58   \n",
       "1141                 39.0                  51.0  0.99512  3.52       0.76   \n",
       "1142                 32.0                  44.0  0.99547  3.57       0.71   \n",
       "\n",
       "      alcohol  quality    Id  \n",
       "0         9.4        5     0  \n",
       "1         9.8        5     1  \n",
       "2         9.8        5     2  \n",
       "3         9.8        6     3  \n",
       "4         9.4        5     4  \n",
       "...       ...      ...   ...  \n",
       "1138     11.0        6  1592  \n",
       "1139      9.5        6  1593  \n",
       "1140     10.5        5  1594  \n",
       "1141     11.2        6  1595  \n",
       "1142     10.2        5  1597  \n",
       "\n",
       "[1143 rows x 13 columns]"
      ],
      "text/html": [
       "<div>\n",
       "<style scoped>\n",
       "    .dataframe tbody tr th:only-of-type {\n",
       "        vertical-align: middle;\n",
       "    }\n",
       "\n",
       "    .dataframe tbody tr th {\n",
       "        vertical-align: top;\n",
       "    }\n",
       "\n",
       "    .dataframe thead th {\n",
       "        text-align: right;\n",
       "    }\n",
       "</style>\n",
       "<table border=\"1\" class=\"dataframe\">\n",
       "  <thead>\n",
       "    <tr style=\"text-align: right;\">\n",
       "      <th></th>\n",
       "      <th>fixed acidity</th>\n",
       "      <th>volatile acidity</th>\n",
       "      <th>citric acid</th>\n",
       "      <th>residual sugar</th>\n",
       "      <th>chlorides</th>\n",
       "      <th>free sulfur dioxide</th>\n",
       "      <th>total sulfur dioxide</th>\n",
       "      <th>density</th>\n",
       "      <th>pH</th>\n",
       "      <th>sulphates</th>\n",
       "      <th>alcohol</th>\n",
       "      <th>quality</th>\n",
       "      <th>Id</th>\n",
       "    </tr>\n",
       "  </thead>\n",
       "  <tbody>\n",
       "    <tr>\n",
       "      <th>0</th>\n",
       "      <td>7.4</td>\n",
       "      <td>0.700</td>\n",
       "      <td>0.00</td>\n",
       "      <td>1.9</td>\n",
       "      <td>0.076</td>\n",
       "      <td>11.0</td>\n",
       "      <td>34.0</td>\n",
       "      <td>0.99780</td>\n",
       "      <td>3.51</td>\n",
       "      <td>0.56</td>\n",
       "      <td>9.4</td>\n",
       "      <td>5</td>\n",
       "      <td>0</td>\n",
       "    </tr>\n",
       "    <tr>\n",
       "      <th>1</th>\n",
       "      <td>7.8</td>\n",
       "      <td>0.880</td>\n",
       "      <td>0.00</td>\n",
       "      <td>2.6</td>\n",
       "      <td>0.098</td>\n",
       "      <td>25.0</td>\n",
       "      <td>67.0</td>\n",
       "      <td>0.99680</td>\n",
       "      <td>3.20</td>\n",
       "      <td>0.68</td>\n",
       "      <td>9.8</td>\n",
       "      <td>5</td>\n",
       "      <td>1</td>\n",
       "    </tr>\n",
       "    <tr>\n",
       "      <th>2</th>\n",
       "      <td>7.8</td>\n",
       "      <td>0.760</td>\n",
       "      <td>0.04</td>\n",
       "      <td>2.3</td>\n",
       "      <td>0.092</td>\n",
       "      <td>15.0</td>\n",
       "      <td>54.0</td>\n",
       "      <td>0.99700</td>\n",
       "      <td>3.26</td>\n",
       "      <td>0.65</td>\n",
       "      <td>9.8</td>\n",
       "      <td>5</td>\n",
       "      <td>2</td>\n",
       "    </tr>\n",
       "    <tr>\n",
       "      <th>3</th>\n",
       "      <td>11.2</td>\n",
       "      <td>0.280</td>\n",
       "      <td>0.56</td>\n",
       "      <td>1.9</td>\n",
       "      <td>0.075</td>\n",
       "      <td>17.0</td>\n",
       "      <td>60.0</td>\n",
       "      <td>0.99800</td>\n",
       "      <td>3.16</td>\n",
       "      <td>0.58</td>\n",
       "      <td>9.8</td>\n",
       "      <td>6</td>\n",
       "      <td>3</td>\n",
       "    </tr>\n",
       "    <tr>\n",
       "      <th>4</th>\n",
       "      <td>7.4</td>\n",
       "      <td>0.700</td>\n",
       "      <td>0.00</td>\n",
       "      <td>1.9</td>\n",
       "      <td>0.076</td>\n",
       "      <td>11.0</td>\n",
       "      <td>34.0</td>\n",
       "      <td>0.99780</td>\n",
       "      <td>3.51</td>\n",
       "      <td>0.56</td>\n",
       "      <td>9.4</td>\n",
       "      <td>5</td>\n",
       "      <td>4</td>\n",
       "    </tr>\n",
       "    <tr>\n",
       "      <th>...</th>\n",
       "      <td>...</td>\n",
       "      <td>...</td>\n",
       "      <td>...</td>\n",
       "      <td>...</td>\n",
       "      <td>...</td>\n",
       "      <td>...</td>\n",
       "      <td>...</td>\n",
       "      <td>...</td>\n",
       "      <td>...</td>\n",
       "      <td>...</td>\n",
       "      <td>...</td>\n",
       "      <td>...</td>\n",
       "      <td>...</td>\n",
       "    </tr>\n",
       "    <tr>\n",
       "      <th>1138</th>\n",
       "      <td>6.3</td>\n",
       "      <td>0.510</td>\n",
       "      <td>0.13</td>\n",
       "      <td>2.3</td>\n",
       "      <td>0.076</td>\n",
       "      <td>29.0</td>\n",
       "      <td>40.0</td>\n",
       "      <td>0.99574</td>\n",
       "      <td>3.42</td>\n",
       "      <td>0.75</td>\n",
       "      <td>11.0</td>\n",
       "      <td>6</td>\n",
       "      <td>1592</td>\n",
       "    </tr>\n",
       "    <tr>\n",
       "      <th>1139</th>\n",
       "      <td>6.8</td>\n",
       "      <td>0.620</td>\n",
       "      <td>0.08</td>\n",
       "      <td>1.9</td>\n",
       "      <td>0.068</td>\n",
       "      <td>28.0</td>\n",
       "      <td>38.0</td>\n",
       "      <td>0.99651</td>\n",
       "      <td>3.42</td>\n",
       "      <td>0.82</td>\n",
       "      <td>9.5</td>\n",
       "      <td>6</td>\n",
       "      <td>1593</td>\n",
       "    </tr>\n",
       "    <tr>\n",
       "      <th>1140</th>\n",
       "      <td>6.2</td>\n",
       "      <td>0.600</td>\n",
       "      <td>0.08</td>\n",
       "      <td>2.0</td>\n",
       "      <td>0.090</td>\n",
       "      <td>32.0</td>\n",
       "      <td>44.0</td>\n",
       "      <td>0.99490</td>\n",
       "      <td>3.45</td>\n",
       "      <td>0.58</td>\n",
       "      <td>10.5</td>\n",
       "      <td>5</td>\n",
       "      <td>1594</td>\n",
       "    </tr>\n",
       "    <tr>\n",
       "      <th>1141</th>\n",
       "      <td>5.9</td>\n",
       "      <td>0.550</td>\n",
       "      <td>0.10</td>\n",
       "      <td>2.2</td>\n",
       "      <td>0.062</td>\n",
       "      <td>39.0</td>\n",
       "      <td>51.0</td>\n",
       "      <td>0.99512</td>\n",
       "      <td>3.52</td>\n",
       "      <td>0.76</td>\n",
       "      <td>11.2</td>\n",
       "      <td>6</td>\n",
       "      <td>1595</td>\n",
       "    </tr>\n",
       "    <tr>\n",
       "      <th>1142</th>\n",
       "      <td>5.9</td>\n",
       "      <td>0.645</td>\n",
       "      <td>0.12</td>\n",
       "      <td>2.0</td>\n",
       "      <td>0.075</td>\n",
       "      <td>32.0</td>\n",
       "      <td>44.0</td>\n",
       "      <td>0.99547</td>\n",
       "      <td>3.57</td>\n",
       "      <td>0.71</td>\n",
       "      <td>10.2</td>\n",
       "      <td>5</td>\n",
       "      <td>1597</td>\n",
       "    </tr>\n",
       "  </tbody>\n",
       "</table>\n",
       "<p>1143 rows × 13 columns</p>\n",
       "</div>"
      ]
     },
     "execution_count": 34,
     "metadata": {},
     "output_type": "execute_result"
    }
   ],
   "execution_count": 34
  },
  {
   "metadata": {},
   "cell_type": "markdown",
   "source": "# Séparer les caractéristiques et la cible",
   "id": "3f811dfc176f85dd"
  },
  {
   "metadata": {
    "ExecuteTime": {
     "end_time": "2024-11-18T10:54:29.552418Z",
     "start_time": "2024-11-18T10:54:29.547302Z"
    }
   },
   "cell_type": "code",
   "source": [
    "features = wine_data.iloc[:, :-2].values  # Toutes les colonnes sauf 'quality' et 'Id'\n",
    "labels = wine_data['quality'].values"
   ],
   "id": "f938f0d9a00be4d1",
   "outputs": [],
   "execution_count": 6
  },
  {
   "metadata": {},
   "cell_type": "markdown",
   "source": "# Transformation des étiquettes en binaire",
   "id": "f7c24157fff691e7"
  },
  {
   "metadata": {
    "ExecuteTime": {
     "end_time": "2024-11-18T10:54:31.066234Z",
     "start_time": "2024-11-18T10:54:31.062638Z"
    }
   },
   "cell_type": "code",
   "source": [
    "# (qualité >= 6 : bonne, < 6 : mauvaise)\n",
    "labels = (labels >= 6).astype(int)"
   ],
   "id": "24af73fdd65ccc4f",
   "outputs": [],
   "execution_count": 7
  },
  {
   "metadata": {},
   "cell_type": "markdown",
   "source": "# Division des données en ensembles d'entraînement et de test",
   "id": "35626717f1eeaf29"
  },
  {
   "metadata": {
    "ExecuteTime": {
     "end_time": "2024-11-18T10:54:32.387410Z",
     "start_time": "2024-11-18T10:54:32.382077Z"
    }
   },
   "cell_type": "code",
   "source": "X_train, X_test, y_train, y_test = train_test_split(features, labels, test_size=0.2, random_state=42)",
   "id": "ff29f38dc19104f5",
   "outputs": [],
   "execution_count": 8
  },
  {
   "metadata": {},
   "cell_type": "markdown",
   "source": "# Normaliser les caractéristiques",
   "id": "3ce6f16254cbb8be"
  },
  {
   "metadata": {
    "ExecuteTime": {
     "end_time": "2024-11-18T10:54:33.501963Z",
     "start_time": "2024-11-18T10:54:33.494925Z"
    }
   },
   "cell_type": "code",
   "source": [
    "scaler = StandardScaler()\n",
    "X_train_scaled = scaler.fit_transform(X_train)\n",
    "X_test_scaled = scaler.transform(X_test)\n",
    "\n",
    "input_size = X_train_scaled.shape[1]\n",
    "perceptron = Perceptron(nb_of_inputs=input_size, nb_epochs=100, learning_rate=0.1)\n",
    "X_train_scaled"
   ],
   "id": "99637e7bda24bf87",
   "outputs": [
    {
     "data": {
      "text/plain": [
       "array([[ 0.1426802 , -1.40273053,  1.5096933 , ..., -0.09314751,\n",
       "         0.56821234,  0.05661327],\n",
       "       [ 0.96843134, -1.17920341,  1.5096933 , ..., -1.07474038,\n",
       "         0.4477703 ,  0.89445566],\n",
       "       [ 0.3786091 , -1.23508519,  0.4833938 , ...,  0.56124774,\n",
       "         0.20688622,  1.26683005],\n",
       "       ...,\n",
       "       [-0.50612428, -1.01155806,  0.32944888, ...,  0.29948964,\n",
       "        -0.33510296,  1.35992365],\n",
       "       [-0.21121315,  0.21784112,  0.22681893, ..., -0.15858703,\n",
       "         0.20688622, -0.87432272],\n",
       "       [-0.44714205, -0.06156778,  0.6886537 , ..., -0.35490561,\n",
       "        -0.09421888,  1.26683005]])"
      ]
     },
     "execution_count": 9,
     "metadata": {},
     "output_type": "execute_result"
    }
   ],
   "execution_count": 9
  },
  {
   "metadata": {},
   "cell_type": "markdown",
   "source": "# Entrainement du perceptron",
   "id": "1dbd5c7813f10ee5"
  },
  {
   "metadata": {
    "ExecuteTime": {
     "end_time": "2024-11-18T10:54:36.365265Z",
     "start_time": "2024-11-18T10:54:35.737624Z"
    }
   },
   "cell_type": "code",
   "source": [
    "# Entraîner le perceptron\n",
    "perceptron.train(X_train_scaled, y_train)\n",
    "\n",
    "y_pred = [perceptron.predict(x) for x in X_test_scaled]\n",
    "\n",
    "print(\"Précision :\", accuracy_score(y_test, y_pred) * 100)\n",
    "print(\"Prédictions :\", y_pred[:10])  # Afficher les 10 premières prédictions\n",
    "print(\"Étiquettes réelles :\", y_test[:10])  # Afficher les 10 premières étiquettes\n",
    "\n",
    "print(\"Poids appris :\", perceptron.weights)"
   ],
   "id": "d3b46f11b37c2eb1",
   "outputs": [
    {
     "name": "stdout",
     "output_type": "stream",
     "text": [
      "Précision : 70.3056768558952\n",
      "Prédictions : [1, 1, 0, 0, 1, 1, 1, 0, 1, 1]\n",
      "Étiquettes réelles : [0 1 0 1 1 1 0 0 1 0]\n",
      "Poids appris : [ 0.5         0.20699922 -0.40798591 -0.05079846  0.41030639 -0.43741212\n",
      " -0.02965161 -0.38134046  0.18378144  0.25444806  0.53703445  0.14312207]\n"
     ]
    }
   ],
   "execution_count": 10
  },
  {
   "metadata": {},
   "cell_type": "markdown",
   "source": [
    "## Le perceptron apprend des poids pour différencier les vins de bonne et de mauvaise qualité.\n",
    "On va tester avec des données de différents vins pour voir si le modèle peut prédire la qualité du vin."
   ],
   "id": "ce4d9b7a4f58d6c6"
  },
  {
   "metadata": {},
   "cell_type": "markdown",
   "source": "### Prédiction de la qualité du Chablis, de La Turque et du Monbazillac",
   "id": "3a70480cb9b6d28c"
  },
  {
   "metadata": {
    "ExecuteTime": {
     "end_time": "2024-11-18T13:44:29.895966Z",
     "start_time": "2024-11-18T13:44:29.881815Z"
    }
   },
   "cell_type": "code",
   "source": [
    "# Données pour un Chablis (vin blanc de bonne qualité)\n",
    "chablis_example = np.array([\n",
    "    [7.0, 0.3, 0.4, 1.2, 0.045, 15.0, 75.0, 0.992, 3.35, 0.7, 12.5]  # Exemple pour un vin blanc\n",
    "])\n",
    "\n",
    "# Normalisation des données\n",
    "chablis_example_scaled = scaler.transform(chablis_example)\n",
    "\n",
    "# Prédiction avec votre modèle\n",
    "chablis_prediction = perceptron.predict(chablis_example_scaled[0])\n",
    "\n",
    "# Résultat de la prédiction\n",
    "print(f\"Le vin Chablis est prédit comme : {'Bonne qualité' if chablis_prediction == 1 else 'Mauvaise qualité'}\")"
   ],
   "id": "1a81dce743927e71",
   "outputs": [
    {
     "name": "stdout",
     "output_type": "stream",
     "text": [
      "Le vin Chablis est prédit comme : Bonne qualité\n"
     ]
    }
   ],
   "execution_count": 18
  },
  {
   "metadata": {
    "ExecuteTime": {
     "end_time": "2024-11-18T11:36:24.924566Z",
     "start_time": "2024-11-18T11:36:24.919470Z"
    }
   },
   "cell_type": "code",
   "source": [
    "# Données pour Domaine E. GUIGAL – La Turque \"Côte Brune\"\n",
    "la_turque_example = np.array([\n",
    "    [6.5, 0.4, 0.35, 1.8, 0.05, 18.0, 85.0, 0.994, 3.65, 0.75, 13.5]\n",
    "])\n",
    "\n",
    "# Normalisation des données\n",
    "la_turque_example_scaled = scaler.transform(la_turque_example)\n",
    "\n",
    "# Prédiction avec votre modèle\n",
    "la_turque_prediction = perceptron.predict(la_turque_example_scaled[0])\n",
    "\n",
    "# Résultat de la prédiction\n",
    "print(f\"La Turque est prédit comme : {'Bonne qualité' if la_turque_prediction == 1 else 'Mauvaise qualité'}\")"
   ],
   "id": "487b6070b2f4420a",
   "outputs": [
    {
     "name": "stdout",
     "output_type": "stream",
     "text": [
      "La Turque est prédit comme : Bonne qualité\n"
     ]
    }
   ],
   "execution_count": 16
  },
  {
   "metadata": {
    "ExecuteTime": {
     "end_time": "2024-11-18T11:38:10.386335Z",
     "start_time": "2024-11-18T11:38:10.381959Z"
    }
   },
   "cell_type": "code",
   "source": [
    "# Caractéristiques chimiques estimées pour un Monbazillac\n",
    "monbazillac_example = np.array([\n",
    "    [5.5, 0.3, 0.4, 120.0, 0.05, 35.0, 150.0, 1.020, 3.6, 0.6, 13.0]\n",
    "])\n",
    "\n",
    "# Normalisation des données\n",
    "monbazillac_example_scaled = scaler.transform(monbazillac_example)\n",
    "\n",
    "# Prédiction avec le modèle Perceptron\n",
    "monbazillac_prediction = perceptron.predict(monbazillac_example_scaled[0])\n",
    "\n",
    "# Affichage du résultat\n",
    "print(f\"Le Monbazillac est prédit comme : {'Bonne qualité' if monbazillac_prediction == 1 else 'Mauvaise qualité'}\")"
   ],
   "id": "5168bbddf6d1a56d",
   "outputs": [
    {
     "name": "stdout",
     "output_type": "stream",
     "text": [
      "Le Monbazillac est prédit comme : Bonne qualité\n"
     ]
    }
   ],
   "execution_count": 17
  }
 ],
 "metadata": {
  "kernelspec": {
   "display_name": "Python 3",
   "language": "python",
   "name": "python3"
  },
  "language_info": {
   "codemirror_mode": {
    "name": "ipython",
    "version": 2
   },
   "file_extension": ".py",
   "mimetype": "text/x-python",
   "name": "python",
   "nbconvert_exporter": "python",
   "pygments_lexer": "ipython2",
   "version": "2.7.6"
  }
 },
 "nbformat": 4,
 "nbformat_minor": 5
}
