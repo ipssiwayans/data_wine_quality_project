{
 "cells": [
  {
   "metadata": {
    "ExecuteTime": {
     "end_time": "2024-11-15T10:32:24.477206Z",
     "start_time": "2024-11-15T10:32:24.472807Z"
    }
   },
   "cell_type": "code",
   "source": [
    "import numpy as np\n",
    "import pandas as pd\n",
    "from sklearn.model_selection import train_test_split\n",
    "from sklearn.preprocessing import StandardScaler\n",
    "from sklearn.metrics import accuracy_score"
   ],
   "id": "aefaf10f7adb6f4a",
   "outputs": [],
   "execution_count": 2
  },
  {
   "metadata": {
    "ExecuteTime": {
     "end_time": "2024-11-15T10:32:39.343264Z",
     "start_time": "2024-11-15T10:32:39.336722Z"
    }
   },
   "cell_type": "code",
   "source": [
    "class Perceptron:\n",
    "    def __init__(self, nb_of_inputs, nb_epochs=500, learning_rate=0.0001):\n",
    "        \n",
    "        # - no_of_inputs : Nombre de caractéristiques en entrée\n",
    "        # - nb_epochs : Nombre d'itérations d'entraînement\n",
    "        # - learning_rate : Taux d'apprentissage\n",
    "        \n",
    "        self.nb_epochs = nb_epochs\n",
    "        self.learning_rate = learning_rate\n",
    "        self.weights = np.zeros(nb_of_inputs + 1)  # +1 pour le biais\n",
    "        # Permet d'initialiser le nombre de poids entré en paramètre à zéro dans un tableau\n",
    "\n",
    "    def predict(self, inputs):\n",
    "        summation = np.dot(inputs, self.weights[1:]) + self.weights[0] # somme des multiplications des inputs * poids via la méthode \"dot\" \n",
    "        return 1 if summation > 0 else 0\n",
    "\n",
    "    def train(self, training_inputs, labels):\n",
    "        for _ in range(self.nb_epochs):\n",
    "            for inputs, label in zip(training_inputs, labels):\n",
    "                prediction = self.predict(inputs)\n",
    "                self.weights[1:] += self.learning_rate * (label - prediction) * inputs\n",
    "                self.weights[0] += self.learning_rate * (label - prediction) * 1"
   ],
   "id": "73286331cd8ceeb6",
   "outputs": [],
   "execution_count": 3
  },
  {
   "metadata": {
    "ExecuteTime": {
     "end_time": "2024-11-15T14:58:33.827709Z",
     "start_time": "2024-11-15T14:58:33.785031Z"
    }
   },
   "cell_type": "code",
   "source": [
    "# Charger le dataset\n",
    "file_path = '../WineQT.csv'\n",
    "wine_data = pd.read_csv(file_path)\n",
    "wine_data.isnull().sum()"
   ],
   "id": "72a8cfda9f860447",
   "outputs": [
    {
     "data": {
      "text/plain": [
       "fixed acidity           0\n",
       "volatile acidity        0\n",
       "citric acid             0\n",
       "residual sugar          0\n",
       "chlorides               0\n",
       "free sulfur dioxide     0\n",
       "total sulfur dioxide    0\n",
       "density                 0\n",
       "pH                      0\n",
       "sulphates               0\n",
       "alcohol                 0\n",
       "quality                 0\n",
       "Id                      0\n",
       "dtype: int64"
      ]
     },
     "execution_count": 11,
     "metadata": {},
     "output_type": "execute_result"
    }
   ],
   "execution_count": 11
  },
  {
   "metadata": {
    "ExecuteTime": {
     "end_time": "2024-11-15T10:32:46.083256Z",
     "start_time": "2024-11-15T10:32:46.078226Z"
    }
   },
   "cell_type": "code",
   "source": [
    "# Séparer les caractéristiques et la cible\n",
    "features = wine_data.iloc[:, :-2].values  # Toutes les colonnes sauf 'quality' et 'Id'\n",
    "labels = wine_data['quality'].values"
   ],
   "id": "f938f0d9a00be4d1",
   "outputs": [],
   "execution_count": 5
  },
  {
   "metadata": {
    "ExecuteTime": {
     "end_time": "2024-11-15T10:32:59.958001Z",
     "start_time": "2024-11-15T10:32:59.954225Z"
    }
   },
   "cell_type": "code",
   "source": [
    "# Transformation des étiquettes en catégories binaires (qualité >= 6 : bonne, < 6 : mauvaise)\n",
    "labels = (labels >= 6).astype(int)"
   ],
   "id": "24af73fdd65ccc4f",
   "outputs": [],
   "execution_count": 6
  },
  {
   "metadata": {
    "ExecuteTime": {
     "end_time": "2024-11-15T10:33:02.413338Z",
     "start_time": "2024-11-15T10:33:02.407290Z"
    }
   },
   "cell_type": "code",
   "source": [
    "# Diviser les données en ensembles d'entraînement et de test\n",
    "X_train, X_test, y_train, y_test = train_test_split(features, labels, test_size=0.2, random_state=42)"
   ],
   "id": "ff29f38dc19104f5",
   "outputs": [],
   "execution_count": 7
  },
  {
   "metadata": {
    "ExecuteTime": {
     "end_time": "2024-11-15T10:33:38.225549Z",
     "start_time": "2024-11-15T10:33:38.217928Z"
    }
   },
   "cell_type": "code",
   "source": [
    "# Normaliser les caractéristiques\n",
    "scaler = StandardScaler()\n",
    "X_train_scaled = scaler.fit_transform(X_train)\n",
    "X_test_scaled = scaler.transform(X_test)\n",
    "\n",
    "input_size = X_train_scaled.shape[1]\n",
    "perceptron = Perceptron(nb_of_inputs=input_size, nb_epochs=100, learning_rate=0.1)"
   ],
   "id": "99637e7bda24bf87",
   "outputs": [],
   "execution_count": 8
  },
  {
   "metadata": {
    "ExecuteTime": {
     "end_time": "2024-11-15T10:33:41.771938Z",
     "start_time": "2024-11-15T10:33:40.914544Z"
    }
   },
   "cell_type": "code",
   "source": [
    "# Entraîner le perceptron\n",
    "perceptron.train(X_train_scaled, y_train)\n",
    "\n",
    "y_pred = [perceptron.predict(x) for x in X_test_scaled]\n",
    "\n",
    "print(\"Précision :\", accuracy_score(y_test, y_pred) * 100)\n",
    "print(\"Prédictions :\", y_pred[:10])  # Afficher les 10 premières prédictions\n",
    "print(\"Étiquettes réelles :\", y_test[:10])  # Afficher les 10 premières étiquettes\n",
    "\n",
    "print(\"Poids appris :\", perceptron.weights)"
   ],
   "id": "d3b46f11b37c2eb1",
   "outputs": [
    {
     "name": "stdout",
     "output_type": "stream",
     "text": [
      "Précision : 70.3056768558952\n",
      "Prédictions : [1, 1, 0, 0, 1, 1, 1, 0, 1, 1]\n",
      "Étiquettes réelles : [0 1 0 1 1 1 0 0 1 0]\n",
      "Poids appris : [ 0.5         0.20699922 -0.40798591 -0.05079846  0.41030639 -0.43741212\n",
      " -0.02965161 -0.38134046  0.18378144  0.25444806  0.53703445  0.14312207]\n"
     ]
    }
   ],
   "execution_count": 9
  },
  {
   "metadata": {
    "ExecuteTime": {
     "end_time": "2024-11-15T14:12:01.024412Z",
     "start_time": "2024-11-15T14:12:01.002870Z"
    }
   },
   "cell_type": "code",
   "source": [
    "# Exemple de données brutes (valeurs non normalisées)\n",
    "raw_inputs = np.array([\n",
    "    [7.4, 0.7, 0.0, 1.9, 0.076, 11.0, 34.0, 0.9978, 3.51, 0.56, 9.4],  # Exemple 1\n",
    "    [6.7, 0.58, 0.08, 2.1, 0.056, 15.0, 54.0, 0.9958, 3.25, 0.59, 10.3],  # Exemple 2\n",
    "    [8.1, 0.56, 0.28, 1.7, 0.368, 16.0, 56.0, 0.9969, 3.3, 1.2, 9.8]  # Exemple 3\n",
    "])\n",
    "\n",
    "# Appliquer la normalisation aux données brutes\n",
    "raw_inputs_scaled = scaler.transform(raw_inputs)\n",
    "\n",
    "# Prédire les résultats pour les données brutes\n",
    "raw_predictions = [perceptron.predict(x) for x in raw_inputs_scaled]\n",
    "\n",
    "# Afficher les résultats\n",
    "print(\"Données brutes :\")\n",
    "print(raw_inputs)\n",
    "print(\"Prédictions pour les données brutes :\", raw_predictions)"
   ],
   "id": "1dc25c87228f2188",
   "outputs": [
    {
     "name": "stdout",
     "output_type": "stream",
     "text": [
      "Données brutes :\n",
      "[[ 7.4     0.7     0.      1.9     0.076  11.     34.      0.9978  3.51\n",
      "   0.56    9.4   ]\n",
      " [ 6.7     0.58    0.08    2.1     0.056  15.     54.      0.9958  3.25\n",
      "   0.59   10.3   ]\n",
      " [ 8.1     0.56    0.28    1.7     0.368  16.     56.      0.9969  3.3\n",
      "   1.2     9.8   ]]\n",
      "Prédictions pour les données brutes : [1, 0, 0]\n"
     ]
    }
   ],
   "execution_count": 10
  }
 ],
 "metadata": {
  "kernelspec": {
   "display_name": "Python 3",
   "language": "python",
   "name": "python3"
  },
  "language_info": {
   "codemirror_mode": {
    "name": "ipython",
    "version": 2
   },
   "file_extension": ".py",
   "mimetype": "text/x-python",
   "name": "python",
   "nbconvert_exporter": "python",
   "pygments_lexer": "ipython2",
   "version": "2.7.6"
  }
 },
 "nbformat": 4,
 "nbformat_minor": 5
}
