{
 "cells": [
  {
   "metadata": {},
   "cell_type": "markdown",
   "source": "## TEST AVEC 1 NEURONE",
   "id": "dd0249b80683cba3"
  },
  {
   "metadata": {},
   "cell_type": "markdown",
   "source": "# Import des librairies",
   "id": "63be6d58ab955467"
  },
  {
   "metadata": {
    "ExecuteTime": {
     "end_time": "2024-11-18T10:54:20.118105Z",
     "start_time": "2024-11-18T10:54:18.975948Z"
    }
   },
   "cell_type": "code",
   "source": [
    "import numpy as np\n",
    "import pandas as pd\n",
    "from sklearn.model_selection import train_test_split\n",
    "from sklearn.preprocessing import StandardScaler\n",
    "from sklearn.metrics import accuracy_score"
   ],
   "id": "aefaf10f7adb6f4a",
   "outputs": [],
   "execution_count": 3
  },
  {
   "metadata": {},
   "cell_type": "markdown",
   "source": "# Création de la classe Perceptron",
   "id": "a601b0208f9f3194"
  },
  {
   "metadata": {
    "ExecuteTime": {
     "end_time": "2024-11-18T10:54:23.938154Z",
     "start_time": "2024-11-18T10:54:23.933308Z"
    }
   },
   "cell_type": "code",
   "source": [
    "class Perceptron:\n",
    "    def __init__(self, nb_of_inputs, nb_epochs=500, learning_rate=0.0001):\n",
    "        \n",
    "        # - nb_of_inputs : Nombre de caractéristiques en entrée\n",
    "        # - nb_epochs : Nombre d'itérations d'entraînement\n",
    "        # - learning_rate : Taux d'apprentissage\n",
    "        \n",
    "        self.nb_epochs = nb_epochs\n",
    "        self.learning_rate = learning_rate\n",
    "        self.weights = np.zeros(nb_of_inputs + 1)  # +1 pour le biais\n",
    "        # Permet d'initialiser le nombre de poids entré en paramètre à zéro dans un tableau\n",
    "\n",
    "    def predict(self, inputs):\n",
    "        summation = np.dot(inputs, self.weights[1:]) + self.weights[0] # somme des multiplications des inputs * poids via la méthode \"dot\" \n",
    "        return 1 if summation > 0 else 0\n",
    "\n",
    "    def train(self, training_inputs, labels):\n",
    "        for _ in range(self.nb_epochs):\n",
    "            for inputs, label in zip(training_inputs, labels):\n",
    "                prediction = self.predict(inputs)\n",
    "                self.weights[1:] += self.learning_rate * (label - prediction) * inputs\n",
    "                self.weights[0] += self.learning_rate * (label - prediction) * 1"
   ],
   "id": "73286331cd8ceeb6",
   "outputs": [],
   "execution_count": 4
  },
  {
   "metadata": {},
   "cell_type": "markdown",
   "source": "# Charger le dataset et préparer les données",
   "id": "778522eb0ece4b78"
  },
  {
   "metadata": {
    "ExecuteTime": {
     "end_time": "2024-11-18T10:54:27.286487Z",
     "start_time": "2024-11-18T10:54:27.271360Z"
    }
   },
   "cell_type": "code",
   "source": [
    "file_path = '../WineQT.csv'\n",
    "wine_data = pd.read_csv(file_path)\n",
    "wine_data.isnull().sum()"
   ],
   "id": "72a8cfda9f860447",
   "outputs": [
    {
     "data": {
      "text/plain": [
       "fixed acidity           0\n",
       "volatile acidity        0\n",
       "citric acid             0\n",
       "residual sugar          0\n",
       "chlorides               0\n",
       "free sulfur dioxide     0\n",
       "total sulfur dioxide    0\n",
       "density                 0\n",
       "pH                      0\n",
       "sulphates               0\n",
       "alcohol                 0\n",
       "quality                 0\n",
       "Id                      0\n",
       "dtype: int64"
      ]
     },
     "execution_count": 5,
     "metadata": {},
     "output_type": "execute_result"
    }
   ],
   "execution_count": 5
  },
  {
   "metadata": {},
   "cell_type": "markdown",
   "source": "# Séparer les caractéristiques et la cible",
   "id": "3f811dfc176f85dd"
  },
  {
   "metadata": {
    "ExecuteTime": {
     "end_time": "2024-11-18T10:54:29.552418Z",
     "start_time": "2024-11-18T10:54:29.547302Z"
    }
   },
   "cell_type": "code",
   "source": [
    "features = wine_data.iloc[:, :-2].values  # Toutes les colonnes sauf 'quality' et 'Id'\n",
    "labels = wine_data['quality'].values"
   ],
   "id": "f938f0d9a00be4d1",
   "outputs": [],
   "execution_count": 6
  },
  {
   "metadata": {},
   "cell_type": "markdown",
   "source": "# Transformation des étiquettes en binaire",
   "id": "f7c24157fff691e7"
  },
  {
   "metadata": {
    "ExecuteTime": {
     "end_time": "2024-11-18T10:54:31.066234Z",
     "start_time": "2024-11-18T10:54:31.062638Z"
    }
   },
   "cell_type": "code",
   "source": [
    "# (qualité >= 6 : bonne, < 6 : mauvaise)\n",
    "labels = (labels >= 6).astype(int)"
   ],
   "id": "24af73fdd65ccc4f",
   "outputs": [],
   "execution_count": 7
  },
  {
   "metadata": {},
   "cell_type": "markdown",
   "source": "# Division des données en ensembles d'entraînement et de test",
   "id": "35626717f1eeaf29"
  },
  {
   "metadata": {
    "ExecuteTime": {
     "end_time": "2024-11-18T10:54:32.387410Z",
     "start_time": "2024-11-18T10:54:32.382077Z"
    }
   },
   "cell_type": "code",
   "source": "X_train, X_test, y_train, y_test = train_test_split(features, labels, test_size=0.2, random_state=42)",
   "id": "ff29f38dc19104f5",
   "outputs": [],
   "execution_count": 8
  },
  {
   "metadata": {},
   "cell_type": "markdown",
   "source": "# Normaliser les caractéristiques",
   "id": "3ce6f16254cbb8be"
  },
  {
   "metadata": {
    "ExecuteTime": {
     "end_time": "2024-11-18T10:54:33.501963Z",
     "start_time": "2024-11-18T10:54:33.494925Z"
    }
   },
   "cell_type": "code",
   "source": [
    "scaler = StandardScaler()\n",
    "X_train_scaled = scaler.fit_transform(X_train)\n",
    "X_test_scaled = scaler.transform(X_test)\n",
    "\n",
    "input_size = X_train_scaled.shape[1]\n",
    "perceptron = Perceptron(nb_of_inputs=input_size, nb_epochs=100, learning_rate=0.1)\n",
    "X_train_scaled"
   ],
   "id": "99637e7bda24bf87",
   "outputs": [
    {
     "data": {
      "text/plain": [
       "array([[ 0.1426802 , -1.40273053,  1.5096933 , ..., -0.09314751,\n",
       "         0.56821234,  0.05661327],\n",
       "       [ 0.96843134, -1.17920341,  1.5096933 , ..., -1.07474038,\n",
       "         0.4477703 ,  0.89445566],\n",
       "       [ 0.3786091 , -1.23508519,  0.4833938 , ...,  0.56124774,\n",
       "         0.20688622,  1.26683005],\n",
       "       ...,\n",
       "       [-0.50612428, -1.01155806,  0.32944888, ...,  0.29948964,\n",
       "        -0.33510296,  1.35992365],\n",
       "       [-0.21121315,  0.21784112,  0.22681893, ..., -0.15858703,\n",
       "         0.20688622, -0.87432272],\n",
       "       [-0.44714205, -0.06156778,  0.6886537 , ..., -0.35490561,\n",
       "        -0.09421888,  1.26683005]])"
      ]
     },
     "execution_count": 9,
     "metadata": {},
     "output_type": "execute_result"
    }
   ],
   "execution_count": 9
  },
  {
   "metadata": {},
   "cell_type": "markdown",
   "source": "# Entrainement du perceptron",
   "id": "1dbd5c7813f10ee5"
  },
  {
   "metadata": {
    "ExecuteTime": {
     "end_time": "2024-11-18T10:54:36.365265Z",
     "start_time": "2024-11-18T10:54:35.737624Z"
    }
   },
   "cell_type": "code",
   "source": [
    "# Entraîner le perceptron\n",
    "perceptron.train(X_train_scaled, y_train)\n",
    "\n",
    "y_pred = [perceptron.predict(x) for x in X_test_scaled]\n",
    "\n",
    "print(\"Précision :\", accuracy_score(y_test, y_pred) * 100)\n",
    "print(\"Prédictions :\", y_pred[:10])  # Afficher les 10 premières prédictions\n",
    "print(\"Étiquettes réelles :\", y_test[:10])  # Afficher les 10 premières étiquettes\n",
    "\n",
    "print(\"Poids appris :\", perceptron.weights)"
   ],
   "id": "d3b46f11b37c2eb1",
   "outputs": [
    {
     "name": "stdout",
     "output_type": "stream",
     "text": [
      "Précision : 70.3056768558952\n",
      "Prédictions : [1, 1, 0, 0, 1, 1, 1, 0, 1, 1]\n",
      "Étiquettes réelles : [0 1 0 1 1 1 0 0 1 0]\n",
      "Poids appris : [ 0.5         0.20699922 -0.40798591 -0.05079846  0.41030639 -0.43741212\n",
      " -0.02965161 -0.38134046  0.18378144  0.25444806  0.53703445  0.14312207]\n"
     ]
    }
   ],
   "execution_count": 10
  },
  {
   "metadata": {},
   "cell_type": "markdown",
   "source": [
    "## Le perceptron apprend des poids pour différencier les vins de bonne et de mauvaise qualité.\n",
    "On va tester avec des données de différents vins pour voir si le modèle peut prédire la qualité du vin."
   ],
   "id": "ce4d9b7a4f58d6c6"
  },
  {
   "metadata": {},
   "cell_type": "markdown",
   "source": "### Prédiction de la qualité du Chablis, de La Turque et du Monbazillac",
   "id": "3a70480cb9b6d28c"
  },
  {
   "metadata": {
    "ExecuteTime": {
     "end_time": "2024-11-18T10:54:40.948056Z",
     "start_time": "2024-11-18T10:54:40.942981Z"
    }
   },
   "cell_type": "code",
   "source": [
    "# Données pour un Chablis (vin blanc de bonne qualité)\n",
    "chablis_example = np.array([\n",
    "    [7.0, 0.3, 0.4, 1.2, 0.045, 15.0, 75.0, 0.992, 3.35, 0.7, 11.5]  # Exemple pour un vin blanc\n",
    "])\n",
    "\n",
    "# Normalisation des données\n",
    "chablis_example_scaled = scaler.transform(chablis_example)\n",
    "\n",
    "# Prédiction avec votre modèle\n",
    "chablis_prediction = perceptron.predict(chablis_example_scaled[0])\n",
    "\n",
    "# Résultat de la prédiction\n",
    "print(f\"Le vin Chablis est prédit comme : {'Bonne qualité' if chablis_prediction == 1 else 'Mauvaise qualité'}\")"
   ],
   "id": "1a81dce743927e71",
   "outputs": [
    {
     "name": "stdout",
     "output_type": "stream",
     "text": [
      "Le vin Chablis est prédit comme : Bonne qualité\n"
     ]
    }
   ],
   "execution_count": 12
  },
  {
   "metadata": {
    "ExecuteTime": {
     "end_time": "2024-11-18T11:36:24.924566Z",
     "start_time": "2024-11-18T11:36:24.919470Z"
    }
   },
   "cell_type": "code",
   "source": [
    "# Données pour Domaine E. GUIGAL – La Turque \"Côte Brune\"\n",
    "la_turque_example = np.array([\n",
    "    [6.5, 0.4, 0.35, 1.8, 0.05, 18.0, 85.0, 0.994, 3.65, 0.75, 13.5]\n",
    "])\n",
    "\n",
    "# Normalisation des données\n",
    "la_turque_example_scaled = scaler.transform(la_turque_example)\n",
    "\n",
    "# Prédiction avec votre modèle\n",
    "la_turque_prediction = perceptron.predict(la_turque_example_scaled[0])\n",
    "\n",
    "# Résultat de la prédiction\n",
    "print(f\"La Turque est prédit comme : {'Bonne qualité' if la_turque_prediction == 1 else 'Mauvaise qualité'}\")"
   ],
   "id": "487b6070b2f4420a",
   "outputs": [
    {
     "name": "stdout",
     "output_type": "stream",
     "text": [
      "La Turque est prédit comme : Bonne qualité\n"
     ]
    }
   ],
   "execution_count": 16
  },
  {
   "metadata": {
    "ExecuteTime": {
     "end_time": "2024-11-18T11:38:10.386335Z",
     "start_time": "2024-11-18T11:38:10.381959Z"
    }
   },
   "cell_type": "code",
   "source": [
    "# Caractéristiques chimiques estimées pour un Monbazillac\n",
    "monbazillac_example = np.array([\n",
    "    [5.5, 0.3, 0.4, 120.0, 0.05, 35.0, 150.0, 1.020, 3.6, 0.6, 13.0]\n",
    "])\n",
    "\n",
    "# Normalisation des données\n",
    "monbazillac_example_scaled = scaler.transform(monbazillac_example)\n",
    "\n",
    "# Prédiction avec le modèle Perceptron\n",
    "monbazillac_prediction = perceptron.predict(monbazillac_example_scaled[0])\n",
    "\n",
    "# Affichage du résultat\n",
    "print(f\"Le Monbazillac est prédit comme : {'Bonne qualité' if monbazillac_prediction == 1 else 'Mauvaise qualité'}\")"
   ],
   "id": "5168bbddf6d1a56d",
   "outputs": [
    {
     "name": "stdout",
     "output_type": "stream",
     "text": [
      "Le Monbazillac est prédit comme : Bonne qualité\n"
     ]
    }
   ],
   "execution_count": 17
  }
 ],
 "metadata": {
  "kernelspec": {
   "display_name": "Python 3",
   "language": "python",
   "name": "python3"
  },
  "language_info": {
   "codemirror_mode": {
    "name": "ipython",
    "version": 2
   },
   "file_extension": ".py",
   "mimetype": "text/x-python",
   "name": "python",
   "nbconvert_exporter": "python",
   "pygments_lexer": "ipython2",
   "version": "2.7.6"
  }
 },
 "nbformat": 4,
 "nbformat_minor": 5
}
